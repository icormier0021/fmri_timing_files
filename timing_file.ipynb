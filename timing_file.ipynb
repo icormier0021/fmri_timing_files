{
 "cells": [
  {
   "cell_type": "markdown",
   "id": "ab12d1e7-e2e4-434b-ba59-02c438cec3cf",
   "metadata": {},
   "source": [
    "# Making Timing Files for Event-Related fMRI Study"
   ]
  },
  {
   "cell_type": "markdown",
   "id": "b29c4cb7-45ad-4292-af0b-f3feaf51c43e",
   "metadata": {},
   "source": [
    "Author: Isaac Cormier\n",
    "Date:2024-06-24"
   ]
  },
  {
   "cell_type": "markdown",
   "id": "e6da4d08-0251-4f67-90ba-8c342fb59a36",
   "metadata": {},
   "source": [
    "## CreateTiming Function"
   ]
  },
  {
   "cell_type": "code",
   "execution_count": 132,
   "id": "82cbf014-b8f7-4888-b584-638afacd3b62",
   "metadata": {},
   "outputs": [],
   "source": [
    "##TODO:Remove the inclusion of the TR and approx_time_sec collumns for the timing text files once confirmed that they are correct\n",
    "\n",
    "import os\n",
    "import pandas as pd\n",
    "import numpy as np\n",
    "\n",
    "def createTiming(directory, condition=['Picture', 'Word', 'Face'], ids = range(1,31)):\n",
    "    #Check that condition is valid\n",
    "    condition_list = ['Picture', 'Word', 'Face']\n",
    "    condition = [c.capitalize() for c in condition]\n",
    "    if not any(cond in condition_list for cond in condition):\n",
    "        raise ValueError(\"invalid condition\")\n",
    "        \n",
    "    #Load participant data and remove rows with blank TRs\n",
    "    for i in ids:\n",
    "        zero_id = f\"{i:03}\"\n",
    "        csv = os.path.join(os.getcwd(), directory, f\"fMRI_MEG_{zero_id}_memoryTest_responses_withCodes.csv\")\n",
    "        df = pd.read_csv(csv, usecols=[0,1,2,3,4,5,6,7])\n",
    "        df.rename(columns={\n",
    "            'Stim Type': 'stim_type',\n",
    "            'Stim': 'stim',\n",
    "            'PostScan Trial': 'postscan_trial',\n",
    "            'Response': 'response',\n",
    "            'Correct Answer': 'correct_answer',\n",
    "            'Code': 'code',\n",
    "            'TR': 'TR',\n",
    "            'Approx time (s)': 'approx_time_sec'\n",
    "        }, inplace=True)\n",
    "        df.dropna(subset=['TR'], inplace=True)\n",
    "        df = df.sort_values('TR')\n",
    "        if len(df) != 210:\n",
    "            raise ValueError(f\"There are {len(df)} number of rows, when there should be 210.\")\n",
    "            \n",
    "        #Add rows corresponding to TRs not included for the stimuli\n",
    "        rows_with_TRs = []\n",
    "        for index, row in df.iterrows():\n",
    "            rows_with_TRs.append(row) \n",
    "            new_row = row.copy()\n",
    "            new_row.iloc[6] += 1\n",
    "            new_row.iloc[7] += 2\n",
    "            new_row.iloc[1:4] = np.nan\n",
    "            rows_with_TRs.append(new_row)\n",
    "        df_TRs = pd.DataFrame(rows_with_TRs)\n",
    "        \n",
    "        #Add rows corresponding to the fixation crosshairs at the start and between blocks\n",
    "        rows_with_crosshair = []\n",
    "        count = 0\n",
    "        for index, row in df_TRs.iloc[::-1].iterrows():\n",
    "            rows_with_crosshair.append(row)\n",
    "\n",
    "            count += 1\n",
    "            if count % 60 == 0:\n",
    "                for x in range(10):\n",
    "                    new_row = pd.Series({'stim_type': f\"Crosshair\",\n",
    "                                         'stim': np.nan,\n",
    "                                         'postscan_trial': np.nan,\n",
    "                                         'response': np.nan,\n",
    "                                         'correct_answer': np.nan,\n",
    "                                         'code': 0,\n",
    "                                         'TR': np.nan,\n",
    "                                         'approx_time_sec': np.nan})\n",
    "                    rows_with_crosshair.append(new_row)\n",
    "        rows_with_crosshair.reverse()\n",
    "        df_TRs_crosshair = pd.DataFrame(rows_with_crosshair[5:])\n",
    "\n",
    "        #Create timing text files\n",
    "        for p in condition:\n",
    "            #Correctly remembered txt file (1=correctly remembered; 0=anything else)\n",
    "            df_temp1 = df_TRs_crosshair.copy()\n",
    "            df_temp1.loc[(df_temp1['stim_type'] != p) | (df_temp1['code'] != 1), 'code'] = 0\n",
    "            correct = df_temp1[['code', 'TR', 'approx_time_sec']]\n",
    "            output_txt1= os.path.join(os.getcwd(),directory, f\"sub-{zero_id}_{p}_correctly_remembered.txt\")\n",
    "            correct.to_csv(output_txt1, sep='\\t', index=False, header=False)\n",
    "            \n",
    "            #Incorrectly remembered txt file (1=incorrectly remembered; 0=anything else)\n",
    "            df_temp2 = df_TRs_crosshair.copy()\n",
    "            df_temp2.loc[(df_temp2['stim_type'] != p) | (df_temp2['code'] != 4), 'code'] = 0\n",
    "            df_temp2.loc[(df_temp2['code']) == 4, 'code'] = 1\n",
    "            incorrect = df_temp2[['code', 'TR', 'approx_time_sec']]\n",
    "            output_txt2= os.path.join(os.getcwd(),directory, f\"sub-{zero_id}_{p}_incorrectly_remembered.txt\")\n",
    "            incorrect.to_csv(output_txt2, sep='\\t', index=False, header=False)    "
   ]
  },
  {
   "cell_type": "markdown",
   "id": "fac0b267-63fa-4759-b432-7ea35eb4c1b0",
   "metadata": {},
   "source": [
    "## Example of Running CreateTiming Function"
   ]
  },
  {
   "cell_type": "code",
   "execution_count": 137,
   "id": "e95842ca-5820-45ce-adf9-6c7a36003d63",
   "metadata": {},
   "outputs": [],
   "source": [
    "createTiming(directory=\"/Volumes/CIHR_STUDY/fmri_timing_files/original_data/\",ids=[3])"
   ]
  }
 ],
 "metadata": {
  "kernelspec": {
   "display_name": "Python 3 (ipykernel)",
   "language": "python",
   "name": "python3"
  },
  "language_info": {
   "codemirror_mode": {
    "name": "ipython",
    "version": 3
   },
   "file_extension": ".py",
   "mimetype": "text/x-python",
   "name": "python",
   "nbconvert_exporter": "python",
   "pygments_lexer": "ipython3",
   "version": "3.10.14"
  }
 },
 "nbformat": 4,
 "nbformat_minor": 5
}
